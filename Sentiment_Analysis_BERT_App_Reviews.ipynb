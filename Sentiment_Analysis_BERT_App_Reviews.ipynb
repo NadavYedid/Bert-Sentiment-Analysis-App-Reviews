{
  "cells": [
    {
      "cell_type": "markdown",
      "id": "6c5ed0db",
      "metadata": {
        "id": "6c5ed0db"
      },
      "source": [
        "## Spotify App Reviews\n",
        "##### Nadav Yedid"
      ]
    },
    {
      "cell_type": "markdown",
      "id": "545e658e",
      "metadata": {
        "id": "545e658e"
      },
      "source": [
        "- [Link to the DataSet on Kaggle.](https://www.kaggle.com/datasets/mfaaris/spotify-app-reviews-2022)"
      ]
    },
    {
      "cell_type": "code",
      "execution_count": 1,
      "id": "1e8a0f75",
      "metadata": {
        "id": "1e8a0f75"
      },
      "outputs": [],
      "source": [
        "#!pip install transformers\n",
        "#!pip install torch"
      ]
    },
    {
      "cell_type": "code",
      "execution_count": 2,
      "id": "rlXHYdjUE7Pn",
      "metadata": {
        "colab": {
          "base_uri": "https://localhost:8080/"
        },
        "id": "rlXHYdjUE7Pn",
        "outputId": "4a65d7c4-42e3-49d1-9b0c-b305f9217892"
      },
      "outputs": [
        {
          "output_type": "stream",
          "name": "stdout",
          "text": [
            "Using device: cuda\n"
          ]
        }
      ],
      "source": [
        "import torch\n",
        "\n",
        "# Check for GPU and assign device\n",
        "device = torch.device(\"cuda\") if torch.cuda.is_available() else torch.device(\"cpu\")\n",
        "print(\"Using device:\", device)"
      ]
    },
    {
      "cell_type": "markdown",
      "id": "dc50bfd9",
      "metadata": {
        "id": "dc50bfd9"
      },
      "source": [
        "---\n",
        "1) [Introducing the Data.](#section1)\n",
        "2) [NaN values.](#section2)\n",
        "3) [Convert ratings.](#section3)\n",
        "4) [ Clearing the text.](#section4)\n",
        "5) [Division into Train, Validation and Test.](#section5)\n",
        "6) [Loading the Tokenizer and preparing the texts.](#section6)\n",
        "7) [Creating a Dataset for PyTorch.](#section7)\n",
        "8) [Model definition and training.](#section8)\n",
        "9) [Optimizer and Learning rate.](#section9)\n",
        "10) [Training the model.](#section10)\n",
        "11) [Model validation.](#section11)\n",
        "12) [Saving the Fine-Tuned Model.](#section12)"
      ]
    },
    {
      "cell_type": "markdown",
      "id": "89f0de8c",
      "metadata": {
        "id": "89f0de8c"
      },
      "source": [
        "---\n",
        "<a id = \"section1\"></a>\n",
        "### <span style = \"color:blue\" >1) Introducing the Data: </span>"
      ]
    },
    {
      "cell_type": "code",
      "execution_count": 3,
      "id": "59f64de4",
      "metadata": {
        "id": "59f64de4"
      },
      "outputs": [],
      "source": [
        "import pandas as pd\n",
        "url = \"https://raw.githubusercontent.com/NadavYedid/Bert-Sentiment-Analysis-App-Reviews/refs/heads/main/SpotifyAppReviews.csv\"\n",
        "\n",
        "data = pd.read_csv(url)\n",
        "spotify_df = data.copy()"
      ]
    },
    {
      "cell_type": "code",
      "execution_count": 4,
      "id": "ee4185b2",
      "metadata": {
        "colab": {
          "base_uri": "https://localhost:8080/",
          "height": 206
        },
        "id": "ee4185b2",
        "outputId": "eff53b93-34fd-4285-90b6-58ebd5b7e8d8"
      },
      "outputs": [
        {
          "output_type": "execute_result",
          "data": {
            "text/plain": [
              "            Time_submitted                                             Review  \\\n",
              "61589  2022-01-01 03:01:29  Even though it was communicated that lyrics fe...   \n",
              "61590  2022-01-01 02:13:40  Use to be sooo good back when I had it, and wh...   \n",
              "61591  2022-01-01 01:02:29  This app would be good if not for it taking ov...   \n",
              "61592  2022-01-01 00:49:23  The app is good hard to navigate and won't jus...   \n",
              "61593  2022-01-01 00:19:09  Its good but sometimes it doesnt load the musi...   \n",
              "\n",
              "       Rating  Total_thumbsup Reply  \n",
              "61589       1               6   NaN  \n",
              "61590       1               0   NaN  \n",
              "61591       2              10   NaN  \n",
              "61592       2               1   NaN  \n",
              "61593       4               0   NaN  "
            ],
            "text/html": [
              "\n",
              "  <div id=\"df-7ffdd6ec-bb96-46a1-baf3-cf0be313b283\" class=\"colab-df-container\">\n",
              "    <div>\n",
              "<style scoped>\n",
              "    .dataframe tbody tr th:only-of-type {\n",
              "        vertical-align: middle;\n",
              "    }\n",
              "\n",
              "    .dataframe tbody tr th {\n",
              "        vertical-align: top;\n",
              "    }\n",
              "\n",
              "    .dataframe thead th {\n",
              "        text-align: right;\n",
              "    }\n",
              "</style>\n",
              "<table border=\"1\" class=\"dataframe\">\n",
              "  <thead>\n",
              "    <tr style=\"text-align: right;\">\n",
              "      <th></th>\n",
              "      <th>Time_submitted</th>\n",
              "      <th>Review</th>\n",
              "      <th>Rating</th>\n",
              "      <th>Total_thumbsup</th>\n",
              "      <th>Reply</th>\n",
              "    </tr>\n",
              "  </thead>\n",
              "  <tbody>\n",
              "    <tr>\n",
              "      <th>61589</th>\n",
              "      <td>2022-01-01 03:01:29</td>\n",
              "      <td>Even though it was communicated that lyrics fe...</td>\n",
              "      <td>1</td>\n",
              "      <td>6</td>\n",
              "      <td>NaN</td>\n",
              "    </tr>\n",
              "    <tr>\n",
              "      <th>61590</th>\n",
              "      <td>2022-01-01 02:13:40</td>\n",
              "      <td>Use to be sooo good back when I had it, and wh...</td>\n",
              "      <td>1</td>\n",
              "      <td>0</td>\n",
              "      <td>NaN</td>\n",
              "    </tr>\n",
              "    <tr>\n",
              "      <th>61591</th>\n",
              "      <td>2022-01-01 01:02:29</td>\n",
              "      <td>This app would be good if not for it taking ov...</td>\n",
              "      <td>2</td>\n",
              "      <td>10</td>\n",
              "      <td>NaN</td>\n",
              "    </tr>\n",
              "    <tr>\n",
              "      <th>61592</th>\n",
              "      <td>2022-01-01 00:49:23</td>\n",
              "      <td>The app is good hard to navigate and won't jus...</td>\n",
              "      <td>2</td>\n",
              "      <td>1</td>\n",
              "      <td>NaN</td>\n",
              "    </tr>\n",
              "    <tr>\n",
              "      <th>61593</th>\n",
              "      <td>2022-01-01 00:19:09</td>\n",
              "      <td>Its good but sometimes it doesnt load the musi...</td>\n",
              "      <td>4</td>\n",
              "      <td>0</td>\n",
              "      <td>NaN</td>\n",
              "    </tr>\n",
              "  </tbody>\n",
              "</table>\n",
              "</div>\n",
              "    <div class=\"colab-df-buttons\">\n",
              "\n",
              "  <div class=\"colab-df-container\">\n",
              "    <button class=\"colab-df-convert\" onclick=\"convertToInteractive('df-7ffdd6ec-bb96-46a1-baf3-cf0be313b283')\"\n",
              "            title=\"Convert this dataframe to an interactive table.\"\n",
              "            style=\"display:none;\">\n",
              "\n",
              "  <svg xmlns=\"http://www.w3.org/2000/svg\" height=\"24px\" viewBox=\"0 -960 960 960\">\n",
              "    <path d=\"M120-120v-720h720v720H120Zm60-500h600v-160H180v160Zm220 220h160v-160H400v160Zm0 220h160v-160H400v160ZM180-400h160v-160H180v160Zm440 0h160v-160H620v160ZM180-180h160v-160H180v160Zm440 0h160v-160H620v160Z\"/>\n",
              "  </svg>\n",
              "    </button>\n",
              "\n",
              "  <style>\n",
              "    .colab-df-container {\n",
              "      display:flex;\n",
              "      gap: 12px;\n",
              "    }\n",
              "\n",
              "    .colab-df-convert {\n",
              "      background-color: #E8F0FE;\n",
              "      border: none;\n",
              "      border-radius: 50%;\n",
              "      cursor: pointer;\n",
              "      display: none;\n",
              "      fill: #1967D2;\n",
              "      height: 32px;\n",
              "      padding: 0 0 0 0;\n",
              "      width: 32px;\n",
              "    }\n",
              "\n",
              "    .colab-df-convert:hover {\n",
              "      background-color: #E2EBFA;\n",
              "      box-shadow: 0px 1px 2px rgba(60, 64, 67, 0.3), 0px 1px 3px 1px rgba(60, 64, 67, 0.15);\n",
              "      fill: #174EA6;\n",
              "    }\n",
              "\n",
              "    .colab-df-buttons div {\n",
              "      margin-bottom: 4px;\n",
              "    }\n",
              "\n",
              "    [theme=dark] .colab-df-convert {\n",
              "      background-color: #3B4455;\n",
              "      fill: #D2E3FC;\n",
              "    }\n",
              "\n",
              "    [theme=dark] .colab-df-convert:hover {\n",
              "      background-color: #434B5C;\n",
              "      box-shadow: 0px 1px 3px 1px rgba(0, 0, 0, 0.15);\n",
              "      filter: drop-shadow(0px 1px 2px rgba(0, 0, 0, 0.3));\n",
              "      fill: #FFFFFF;\n",
              "    }\n",
              "  </style>\n",
              "\n",
              "    <script>\n",
              "      const buttonEl =\n",
              "        document.querySelector('#df-7ffdd6ec-bb96-46a1-baf3-cf0be313b283 button.colab-df-convert');\n",
              "      buttonEl.style.display =\n",
              "        google.colab.kernel.accessAllowed ? 'block' : 'none';\n",
              "\n",
              "      async function convertToInteractive(key) {\n",
              "        const element = document.querySelector('#df-7ffdd6ec-bb96-46a1-baf3-cf0be313b283');\n",
              "        const dataTable =\n",
              "          await google.colab.kernel.invokeFunction('convertToInteractive',\n",
              "                                                    [key], {});\n",
              "        if (!dataTable) return;\n",
              "\n",
              "        const docLinkHtml = 'Like what you see? Visit the ' +\n",
              "          '<a target=\"_blank\" href=https://colab.research.google.com/notebooks/data_table.ipynb>data table notebook</a>'\n",
              "          + ' to learn more about interactive tables.';\n",
              "        element.innerHTML = '';\n",
              "        dataTable['output_type'] = 'display_data';\n",
              "        await google.colab.output.renderOutput(dataTable, element);\n",
              "        const docLink = document.createElement('div');\n",
              "        docLink.innerHTML = docLinkHtml;\n",
              "        element.appendChild(docLink);\n",
              "      }\n",
              "    </script>\n",
              "  </div>\n",
              "\n",
              "\n",
              "<div id=\"df-cf4f2d23-1079-41d8-981d-4b94797e6ced\">\n",
              "  <button class=\"colab-df-quickchart\" onclick=\"quickchart('df-cf4f2d23-1079-41d8-981d-4b94797e6ced')\"\n",
              "            title=\"Suggest charts\"\n",
              "            style=\"display:none;\">\n",
              "\n",
              "<svg xmlns=\"http://www.w3.org/2000/svg\" height=\"24px\"viewBox=\"0 0 24 24\"\n",
              "     width=\"24px\">\n",
              "    <g>\n",
              "        <path d=\"M19 3H5c-1.1 0-2 .9-2 2v14c0 1.1.9 2 2 2h14c1.1 0 2-.9 2-2V5c0-1.1-.9-2-2-2zM9 17H7v-7h2v7zm4 0h-2V7h2v10zm4 0h-2v-4h2v4z\"/>\n",
              "    </g>\n",
              "</svg>\n",
              "  </button>\n",
              "\n",
              "<style>\n",
              "  .colab-df-quickchart {\n",
              "      --bg-color: #E8F0FE;\n",
              "      --fill-color: #1967D2;\n",
              "      --hover-bg-color: #E2EBFA;\n",
              "      --hover-fill-color: #174EA6;\n",
              "      --disabled-fill-color: #AAA;\n",
              "      --disabled-bg-color: #DDD;\n",
              "  }\n",
              "\n",
              "  [theme=dark] .colab-df-quickchart {\n",
              "      --bg-color: #3B4455;\n",
              "      --fill-color: #D2E3FC;\n",
              "      --hover-bg-color: #434B5C;\n",
              "      --hover-fill-color: #FFFFFF;\n",
              "      --disabled-bg-color: #3B4455;\n",
              "      --disabled-fill-color: #666;\n",
              "  }\n",
              "\n",
              "  .colab-df-quickchart {\n",
              "    background-color: var(--bg-color);\n",
              "    border: none;\n",
              "    border-radius: 50%;\n",
              "    cursor: pointer;\n",
              "    display: none;\n",
              "    fill: var(--fill-color);\n",
              "    height: 32px;\n",
              "    padding: 0;\n",
              "    width: 32px;\n",
              "  }\n",
              "\n",
              "  .colab-df-quickchart:hover {\n",
              "    background-color: var(--hover-bg-color);\n",
              "    box-shadow: 0 1px 2px rgba(60, 64, 67, 0.3), 0 1px 3px 1px rgba(60, 64, 67, 0.15);\n",
              "    fill: var(--button-hover-fill-color);\n",
              "  }\n",
              "\n",
              "  .colab-df-quickchart-complete:disabled,\n",
              "  .colab-df-quickchart-complete:disabled:hover {\n",
              "    background-color: var(--disabled-bg-color);\n",
              "    fill: var(--disabled-fill-color);\n",
              "    box-shadow: none;\n",
              "  }\n",
              "\n",
              "  .colab-df-spinner {\n",
              "    border: 2px solid var(--fill-color);\n",
              "    border-color: transparent;\n",
              "    border-bottom-color: var(--fill-color);\n",
              "    animation:\n",
              "      spin 1s steps(1) infinite;\n",
              "  }\n",
              "\n",
              "  @keyframes spin {\n",
              "    0% {\n",
              "      border-color: transparent;\n",
              "      border-bottom-color: var(--fill-color);\n",
              "      border-left-color: var(--fill-color);\n",
              "    }\n",
              "    20% {\n",
              "      border-color: transparent;\n",
              "      border-left-color: var(--fill-color);\n",
              "      border-top-color: var(--fill-color);\n",
              "    }\n",
              "    30% {\n",
              "      border-color: transparent;\n",
              "      border-left-color: var(--fill-color);\n",
              "      border-top-color: var(--fill-color);\n",
              "      border-right-color: var(--fill-color);\n",
              "    }\n",
              "    40% {\n",
              "      border-color: transparent;\n",
              "      border-right-color: var(--fill-color);\n",
              "      border-top-color: var(--fill-color);\n",
              "    }\n",
              "    60% {\n",
              "      border-color: transparent;\n",
              "      border-right-color: var(--fill-color);\n",
              "    }\n",
              "    80% {\n",
              "      border-color: transparent;\n",
              "      border-right-color: var(--fill-color);\n",
              "      border-bottom-color: var(--fill-color);\n",
              "    }\n",
              "    90% {\n",
              "      border-color: transparent;\n",
              "      border-bottom-color: var(--fill-color);\n",
              "    }\n",
              "  }\n",
              "</style>\n",
              "\n",
              "  <script>\n",
              "    async function quickchart(key) {\n",
              "      const quickchartButtonEl =\n",
              "        document.querySelector('#' + key + ' button');\n",
              "      quickchartButtonEl.disabled = true;  // To prevent multiple clicks.\n",
              "      quickchartButtonEl.classList.add('colab-df-spinner');\n",
              "      try {\n",
              "        const charts = await google.colab.kernel.invokeFunction(\n",
              "            'suggestCharts', [key], {});\n",
              "      } catch (error) {\n",
              "        console.error('Error during call to suggestCharts:', error);\n",
              "      }\n",
              "      quickchartButtonEl.classList.remove('colab-df-spinner');\n",
              "      quickchartButtonEl.classList.add('colab-df-quickchart-complete');\n",
              "    }\n",
              "    (() => {\n",
              "      let quickchartButtonEl =\n",
              "        document.querySelector('#df-cf4f2d23-1079-41d8-981d-4b94797e6ced button');\n",
              "      quickchartButtonEl.style.display =\n",
              "        google.colab.kernel.accessAllowed ? 'block' : 'none';\n",
              "    })();\n",
              "  </script>\n",
              "</div>\n",
              "\n",
              "    </div>\n",
              "  </div>\n"
            ],
            "application/vnd.google.colaboratory.intrinsic+json": {
              "type": "dataframe",
              "repr_error": "0"
            }
          },
          "metadata": {},
          "execution_count": 4
        }
      ],
      "source": [
        "spotify_df.tail()"
      ]
    },
    {
      "cell_type": "markdown",
      "id": "7cebc87a",
      "metadata": {
        "id": "7cebc87a"
      },
      "source": [
        "## Dataset Overview\n",
        "\n",
        "The dataset contains user reviews of mobile applications from the Google Play Store.  \n",
        "It includes the following columns:\n",
        "\n",
        "- **Time_submitted**: Timestamp when the review was posted.\n",
        "- **Review**: The text content of the user review.\n",
        "- **Rating**: A numeric score from 1 (worst) to 5 (best).\n",
        "- **Total_thumbsup**: Number of likes/upvotes the review received.\n",
        "- **Reply**: Developer’s response to the review (if any).\n",
        "\n",
        "We will derive a new column called `Sentiment` based on the rating:\n",
        "- 1–2 → Negative  \n",
        "- 4–5 → Positive  \n",
        "- 3 → Neutral (removed from dataset)\n",
        "\n",
        "Another column `Clean_Review` will contain the preprocessed text."
      ]
    },
    {
      "cell_type": "markdown",
      "id": "917aaade",
      "metadata": {
        "id": "917aaade"
      },
      "source": [
        "---\n",
        "<a id = \"section2\"></a>\n",
        "### <span style = \"color:blue\" > 2) NaN values: </span>"
      ]
    },
    {
      "cell_type": "code",
      "execution_count": 5,
      "id": "5af10cb4",
      "metadata": {
        "colab": {
          "base_uri": "https://localhost:8080/",
          "height": 240
        },
        "id": "5af10cb4",
        "outputId": "1ca00868-8b6a-42b4-9301-a288942c79ca"
      },
      "outputs": [
        {
          "output_type": "execute_result",
          "data": {
            "text/plain": [
              "Time_submitted        0\n",
              "Review                0\n",
              "Rating                0\n",
              "Total_thumbsup        0\n",
              "Reply             61378\n",
              "dtype: int64"
            ],
            "text/html": [
              "<div>\n",
              "<style scoped>\n",
              "    .dataframe tbody tr th:only-of-type {\n",
              "        vertical-align: middle;\n",
              "    }\n",
              "\n",
              "    .dataframe tbody tr th {\n",
              "        vertical-align: top;\n",
              "    }\n",
              "\n",
              "    .dataframe thead th {\n",
              "        text-align: right;\n",
              "    }\n",
              "</style>\n",
              "<table border=\"1\" class=\"dataframe\">\n",
              "  <thead>\n",
              "    <tr style=\"text-align: right;\">\n",
              "      <th></th>\n",
              "      <th>0</th>\n",
              "    </tr>\n",
              "  </thead>\n",
              "  <tbody>\n",
              "    <tr>\n",
              "      <th>Time_submitted</th>\n",
              "      <td>0</td>\n",
              "    </tr>\n",
              "    <tr>\n",
              "      <th>Review</th>\n",
              "      <td>0</td>\n",
              "    </tr>\n",
              "    <tr>\n",
              "      <th>Rating</th>\n",
              "      <td>0</td>\n",
              "    </tr>\n",
              "    <tr>\n",
              "      <th>Total_thumbsup</th>\n",
              "      <td>0</td>\n",
              "    </tr>\n",
              "    <tr>\n",
              "      <th>Reply</th>\n",
              "      <td>61378</td>\n",
              "    </tr>\n",
              "  </tbody>\n",
              "</table>\n",
              "</div><br><label><b>dtype:</b> int64</label>"
            ]
          },
          "metadata": {},
          "execution_count": 5
        }
      ],
      "source": [
        "spotify_df.isnull().sum()"
      ]
    },
    {
      "cell_type": "markdown",
      "id": "010e836d",
      "metadata": {
        "id": "010e836d"
      },
      "source": [
        "#### Removing rows with missing values in 'Review' or 'Rating' columns"
      ]
    },
    {
      "cell_type": "code",
      "execution_count": 6,
      "id": "VQTwyPA_pI3I",
      "metadata": {
        "colab": {
          "base_uri": "https://localhost:8080/",
          "height": 206
        },
        "id": "VQTwyPA_pI3I",
        "outputId": "c2897459-30e2-45ba-c112-5be41e2757af"
      },
      "outputs": [
        {
          "output_type": "execute_result",
          "data": {
            "text/plain": [
              "            Time_submitted                                             Review  \\\n",
              "61589  2022-01-01 03:01:29  Even though it was communicated that lyrics fe...   \n",
              "61590  2022-01-01 02:13:40  Use to be sooo good back when I had it, and wh...   \n",
              "61591  2022-01-01 01:02:29  This app would be good if not for it taking ov...   \n",
              "61592  2022-01-01 00:49:23  The app is good hard to navigate and won't jus...   \n",
              "61593  2022-01-01 00:19:09  Its good but sometimes it doesnt load the musi...   \n",
              "\n",
              "       Rating  Total_thumbsup  \n",
              "61589       1               6  \n",
              "61590       1               0  \n",
              "61591       2              10  \n",
              "61592       2               1  \n",
              "61593       4               0  "
            ],
            "text/html": [
              "\n",
              "  <div id=\"df-5f964ca4-6533-45c7-918e-a6bfcdf63a54\" class=\"colab-df-container\">\n",
              "    <div>\n",
              "<style scoped>\n",
              "    .dataframe tbody tr th:only-of-type {\n",
              "        vertical-align: middle;\n",
              "    }\n",
              "\n",
              "    .dataframe tbody tr th {\n",
              "        vertical-align: top;\n",
              "    }\n",
              "\n",
              "    .dataframe thead th {\n",
              "        text-align: right;\n",
              "    }\n",
              "</style>\n",
              "<table border=\"1\" class=\"dataframe\">\n",
              "  <thead>\n",
              "    <tr style=\"text-align: right;\">\n",
              "      <th></th>\n",
              "      <th>Time_submitted</th>\n",
              "      <th>Review</th>\n",
              "      <th>Rating</th>\n",
              "      <th>Total_thumbsup</th>\n",
              "    </tr>\n",
              "  </thead>\n",
              "  <tbody>\n",
              "    <tr>\n",
              "      <th>61589</th>\n",
              "      <td>2022-01-01 03:01:29</td>\n",
              "      <td>Even though it was communicated that lyrics fe...</td>\n",
              "      <td>1</td>\n",
              "      <td>6</td>\n",
              "    </tr>\n",
              "    <tr>\n",
              "      <th>61590</th>\n",
              "      <td>2022-01-01 02:13:40</td>\n",
              "      <td>Use to be sooo good back when I had it, and wh...</td>\n",
              "      <td>1</td>\n",
              "      <td>0</td>\n",
              "    </tr>\n",
              "    <tr>\n",
              "      <th>61591</th>\n",
              "      <td>2022-01-01 01:02:29</td>\n",
              "      <td>This app would be good if not for it taking ov...</td>\n",
              "      <td>2</td>\n",
              "      <td>10</td>\n",
              "    </tr>\n",
              "    <tr>\n",
              "      <th>61592</th>\n",
              "      <td>2022-01-01 00:49:23</td>\n",
              "      <td>The app is good hard to navigate and won't jus...</td>\n",
              "      <td>2</td>\n",
              "      <td>1</td>\n",
              "    </tr>\n",
              "    <tr>\n",
              "      <th>61593</th>\n",
              "      <td>2022-01-01 00:19:09</td>\n",
              "      <td>Its good but sometimes it doesnt load the musi...</td>\n",
              "      <td>4</td>\n",
              "      <td>0</td>\n",
              "    </tr>\n",
              "  </tbody>\n",
              "</table>\n",
              "</div>\n",
              "    <div class=\"colab-df-buttons\">\n",
              "\n",
              "  <div class=\"colab-df-container\">\n",
              "    <button class=\"colab-df-convert\" onclick=\"convertToInteractive('df-5f964ca4-6533-45c7-918e-a6bfcdf63a54')\"\n",
              "            title=\"Convert this dataframe to an interactive table.\"\n",
              "            style=\"display:none;\">\n",
              "\n",
              "  <svg xmlns=\"http://www.w3.org/2000/svg\" height=\"24px\" viewBox=\"0 -960 960 960\">\n",
              "    <path d=\"M120-120v-720h720v720H120Zm60-500h600v-160H180v160Zm220 220h160v-160H400v160Zm0 220h160v-160H400v160ZM180-400h160v-160H180v160Zm440 0h160v-160H620v160ZM180-180h160v-160H180v160Zm440 0h160v-160H620v160Z\"/>\n",
              "  </svg>\n",
              "    </button>\n",
              "\n",
              "  <style>\n",
              "    .colab-df-container {\n",
              "      display:flex;\n",
              "      gap: 12px;\n",
              "    }\n",
              "\n",
              "    .colab-df-convert {\n",
              "      background-color: #E8F0FE;\n",
              "      border: none;\n",
              "      border-radius: 50%;\n",
              "      cursor: pointer;\n",
              "      display: none;\n",
              "      fill: #1967D2;\n",
              "      height: 32px;\n",
              "      padding: 0 0 0 0;\n",
              "      width: 32px;\n",
              "    }\n",
              "\n",
              "    .colab-df-convert:hover {\n",
              "      background-color: #E2EBFA;\n",
              "      box-shadow: 0px 1px 2px rgba(60, 64, 67, 0.3), 0px 1px 3px 1px rgba(60, 64, 67, 0.15);\n",
              "      fill: #174EA6;\n",
              "    }\n",
              "\n",
              "    .colab-df-buttons div {\n",
              "      margin-bottom: 4px;\n",
              "    }\n",
              "\n",
              "    [theme=dark] .colab-df-convert {\n",
              "      background-color: #3B4455;\n",
              "      fill: #D2E3FC;\n",
              "    }\n",
              "\n",
              "    [theme=dark] .colab-df-convert:hover {\n",
              "      background-color: #434B5C;\n",
              "      box-shadow: 0px 1px 3px 1px rgba(0, 0, 0, 0.15);\n",
              "      filter: drop-shadow(0px 1px 2px rgba(0, 0, 0, 0.3));\n",
              "      fill: #FFFFFF;\n",
              "    }\n",
              "  </style>\n",
              "\n",
              "    <script>\n",
              "      const buttonEl =\n",
              "        document.querySelector('#df-5f964ca4-6533-45c7-918e-a6bfcdf63a54 button.colab-df-convert');\n",
              "      buttonEl.style.display =\n",
              "        google.colab.kernel.accessAllowed ? 'block' : 'none';\n",
              "\n",
              "      async function convertToInteractive(key) {\n",
              "        const element = document.querySelector('#df-5f964ca4-6533-45c7-918e-a6bfcdf63a54');\n",
              "        const dataTable =\n",
              "          await google.colab.kernel.invokeFunction('convertToInteractive',\n",
              "                                                    [key], {});\n",
              "        if (!dataTable) return;\n",
              "\n",
              "        const docLinkHtml = 'Like what you see? Visit the ' +\n",
              "          '<a target=\"_blank\" href=https://colab.research.google.com/notebooks/data_table.ipynb>data table notebook</a>'\n",
              "          + ' to learn more about interactive tables.';\n",
              "        element.innerHTML = '';\n",
              "        dataTable['output_type'] = 'display_data';\n",
              "        await google.colab.output.renderOutput(dataTable, element);\n",
              "        const docLink = document.createElement('div');\n",
              "        docLink.innerHTML = docLinkHtml;\n",
              "        element.appendChild(docLink);\n",
              "      }\n",
              "    </script>\n",
              "  </div>\n",
              "\n",
              "\n",
              "<div id=\"df-a8c68aac-f06e-44e0-b936-e11537134b04\">\n",
              "  <button class=\"colab-df-quickchart\" onclick=\"quickchart('df-a8c68aac-f06e-44e0-b936-e11537134b04')\"\n",
              "            title=\"Suggest charts\"\n",
              "            style=\"display:none;\">\n",
              "\n",
              "<svg xmlns=\"http://www.w3.org/2000/svg\" height=\"24px\"viewBox=\"0 0 24 24\"\n",
              "     width=\"24px\">\n",
              "    <g>\n",
              "        <path d=\"M19 3H5c-1.1 0-2 .9-2 2v14c0 1.1.9 2 2 2h14c1.1 0 2-.9 2-2V5c0-1.1-.9-2-2-2zM9 17H7v-7h2v7zm4 0h-2V7h2v10zm4 0h-2v-4h2v4z\"/>\n",
              "    </g>\n",
              "</svg>\n",
              "  </button>\n",
              "\n",
              "<style>\n",
              "  .colab-df-quickchart {\n",
              "      --bg-color: #E8F0FE;\n",
              "      --fill-color: #1967D2;\n",
              "      --hover-bg-color: #E2EBFA;\n",
              "      --hover-fill-color: #174EA6;\n",
              "      --disabled-fill-color: #AAA;\n",
              "      --disabled-bg-color: #DDD;\n",
              "  }\n",
              "\n",
              "  [theme=dark] .colab-df-quickchart {\n",
              "      --bg-color: #3B4455;\n",
              "      --fill-color: #D2E3FC;\n",
              "      --hover-bg-color: #434B5C;\n",
              "      --hover-fill-color: #FFFFFF;\n",
              "      --disabled-bg-color: #3B4455;\n",
              "      --disabled-fill-color: #666;\n",
              "  }\n",
              "\n",
              "  .colab-df-quickchart {\n",
              "    background-color: var(--bg-color);\n",
              "    border: none;\n",
              "    border-radius: 50%;\n",
              "    cursor: pointer;\n",
              "    display: none;\n",
              "    fill: var(--fill-color);\n",
              "    height: 32px;\n",
              "    padding: 0;\n",
              "    width: 32px;\n",
              "  }\n",
              "\n",
              "  .colab-df-quickchart:hover {\n",
              "    background-color: var(--hover-bg-color);\n",
              "    box-shadow: 0 1px 2px rgba(60, 64, 67, 0.3), 0 1px 3px 1px rgba(60, 64, 67, 0.15);\n",
              "    fill: var(--button-hover-fill-color);\n",
              "  }\n",
              "\n",
              "  .colab-df-quickchart-complete:disabled,\n",
              "  .colab-df-quickchart-complete:disabled:hover {\n",
              "    background-color: var(--disabled-bg-color);\n",
              "    fill: var(--disabled-fill-color);\n",
              "    box-shadow: none;\n",
              "  }\n",
              "\n",
              "  .colab-df-spinner {\n",
              "    border: 2px solid var(--fill-color);\n",
              "    border-color: transparent;\n",
              "    border-bottom-color: var(--fill-color);\n",
              "    animation:\n",
              "      spin 1s steps(1) infinite;\n",
              "  }\n",
              "\n",
              "  @keyframes spin {\n",
              "    0% {\n",
              "      border-color: transparent;\n",
              "      border-bottom-color: var(--fill-color);\n",
              "      border-left-color: var(--fill-color);\n",
              "    }\n",
              "    20% {\n",
              "      border-color: transparent;\n",
              "      border-left-color: var(--fill-color);\n",
              "      border-top-color: var(--fill-color);\n",
              "    }\n",
              "    30% {\n",
              "      border-color: transparent;\n",
              "      border-left-color: var(--fill-color);\n",
              "      border-top-color: var(--fill-color);\n",
              "      border-right-color: var(--fill-color);\n",
              "    }\n",
              "    40% {\n",
              "      border-color: transparent;\n",
              "      border-right-color: var(--fill-color);\n",
              "      border-top-color: var(--fill-color);\n",
              "    }\n",
              "    60% {\n",
              "      border-color: transparent;\n",
              "      border-right-color: var(--fill-color);\n",
              "    }\n",
              "    80% {\n",
              "      border-color: transparent;\n",
              "      border-right-color: var(--fill-color);\n",
              "      border-bottom-color: var(--fill-color);\n",
              "    }\n",
              "    90% {\n",
              "      border-color: transparent;\n",
              "      border-bottom-color: var(--fill-color);\n",
              "    }\n",
              "  }\n",
              "</style>\n",
              "\n",
              "  <script>\n",
              "    async function quickchart(key) {\n",
              "      const quickchartButtonEl =\n",
              "        document.querySelector('#' + key + ' button');\n",
              "      quickchartButtonEl.disabled = true;  // To prevent multiple clicks.\n",
              "      quickchartButtonEl.classList.add('colab-df-spinner');\n",
              "      try {\n",
              "        const charts = await google.colab.kernel.invokeFunction(\n",
              "            'suggestCharts', [key], {});\n",
              "      } catch (error) {\n",
              "        console.error('Error during call to suggestCharts:', error);\n",
              "      }\n",
              "      quickchartButtonEl.classList.remove('colab-df-spinner');\n",
              "      quickchartButtonEl.classList.add('colab-df-quickchart-complete');\n",
              "    }\n",
              "    (() => {\n",
              "      let quickchartButtonEl =\n",
              "        document.querySelector('#df-a8c68aac-f06e-44e0-b936-e11537134b04 button');\n",
              "      quickchartButtonEl.style.display =\n",
              "        google.colab.kernel.accessAllowed ? 'block' : 'none';\n",
              "    })();\n",
              "  </script>\n",
              "</div>\n",
              "\n",
              "    </div>\n",
              "  </div>\n"
            ],
            "application/vnd.google.colaboratory.intrinsic+json": {
              "type": "dataframe",
              "repr_error": "0"
            }
          },
          "metadata": {},
          "execution_count": 6
        }
      ],
      "source": [
        "spotify_df.drop(columns=[\"Reply\"], inplace=True)\n",
        "spotify_df = spotify_df.dropna(subset = ['Review', 'Rating'])\n",
        "spotify_df.tail()"
      ]
    },
    {
      "cell_type": "code",
      "execution_count": 6,
      "id": "1e917a9a",
      "metadata": {
        "id": "1e917a9a"
      },
      "outputs": [],
      "source": []
    },
    {
      "cell_type": "markdown",
      "id": "a9144413",
      "metadata": {
        "id": "a9144413"
      },
      "source": [
        "---\n",
        "<a id = \"section3\"></a>\n",
        "### <span style = \"color:blue\" > 3) Convert ratings: </span>"
      ]
    },
    {
      "cell_type": "markdown",
      "id": "61c0df15",
      "metadata": {
        "id": "61c0df15"
      },
      "source": [
        "#### A rating of 3 is considered neutral."
      ]
    },
    {
      "cell_type": "code",
      "execution_count": 7,
      "id": "ea0e9df4",
      "metadata": {
        "id": "ea0e9df4"
      },
      "outputs": [],
      "source": [
        "def label_sentiment(rating):\n",
        "    if rating <= 2:\n",
        "        return 'negative'\n",
        "    elif rating >= 4:\n",
        "        return 'positive'\n",
        "    else:\n",
        "        return None"
      ]
    },
    {
      "cell_type": "markdown",
      "id": "80dd889c",
      "metadata": {
        "id": "80dd889c"
      },
      "source": [
        "#### Create a 'Sentiment' column and removing rows with neutral sentiment:"
      ]
    },
    {
      "cell_type": "code",
      "execution_count": 8,
      "id": "af665479",
      "metadata": {
        "id": "af665479"
      },
      "outputs": [],
      "source": [
        "spotify_df['Sentiment'] = spotify_df['Rating'].apply(label_sentiment)\n",
        "\n",
        "spotify_df = spotify_df.dropna(subset = ['Sentiment'])"
      ]
    },
    {
      "cell_type": "markdown",
      "id": "7bf22863",
      "metadata": {
        "id": "7bf22863"
      },
      "source": [
        "---\n",
        "<a id = \"section4\"></a>\n",
        "### <span style = \"color:blue\" > 4) Clearing the text: </span>"
      ]
    },
    {
      "cell_type": "code",
      "execution_count": 9,
      "id": "e74d6cd4",
      "metadata": {
        "id": "e74d6cd4"
      },
      "outputs": [],
      "source": [
        "import re\n",
        "\n",
        "def clean_text(text):\n",
        "    text = text.lower()\n",
        "    text = re.sub(r'[^a-z0-9\\s]', '', text)\n",
        "    return text"
      ]
    },
    {
      "cell_type": "code",
      "execution_count": 10,
      "id": "79650683",
      "metadata": {
        "id": "79650683"
      },
      "outputs": [],
      "source": [
        "spotify_df['Clean_Review'] = spotify_df['Review'].apply(clean_text)"
      ]
    },
    {
      "cell_type": "markdown",
      "id": "ea5dd047",
      "metadata": {
        "id": "ea5dd047"
      },
      "source": [
        "---\n",
        "<a id = \"section5\"></a>\n",
        "### <span style = \"color:blue\" > 5) Division into Train, Validation and Test: </span>"
      ]
    },
    {
      "cell_type": "markdown",
      "id": "61e21412",
      "metadata": {
        "id": "61e21412"
      },
      "source": [
        "### First stage: Division into Train (80%) and Test (20%)"
      ]
    },
    {
      "cell_type": "code",
      "execution_count": 11,
      "id": "eb60ba8a",
      "metadata": {
        "id": "eb60ba8a"
      },
      "outputs": [],
      "source": [
        "from sklearn.model_selection import train_test_split\n",
        "\n",
        "train_val_df, test_df = train_test_split(spotify_df, test_size=0.2, random_state=42, stratify=spotify_df['Sentiment'])"
      ]
    },
    {
      "cell_type": "markdown",
      "id": "cd7ac9f4",
      "metadata": {
        "id": "cd7ac9f4"
      },
      "source": [
        "### Second step: From the Train, we divide 20% for Validation\n",
        "#### Stratify - Ensures that we maintain a positive/negative ratio in each group"
      ]
    },
    {
      "cell_type": "code",
      "execution_count": 12,
      "id": "95025c22",
      "metadata": {
        "id": "95025c22"
      },
      "outputs": [],
      "source": [
        "train_df, val_df = train_test_split(train_val_df, test_size=0.2, random_state=42, stratify=train_val_df['Sentiment'])"
      ]
    },
    {
      "cell_type": "markdown",
      "id": "cD0-Y6cUGfUy",
      "metadata": {
        "id": "cD0-Y6cUGfUy"
      },
      "source": [
        "### Distribution check"
      ]
    },
    {
      "cell_type": "code",
      "execution_count": 13,
      "id": "jPWVjy9wGdSr",
      "metadata": {
        "colab": {
          "base_uri": "https://localhost:8080/"
        },
        "id": "jPWVjy9wGdSr",
        "outputId": "7a1f61a7-da0f-41a4-8c23-5e74324fd879"
      },
      "outputs": [
        {
          "output_type": "stream",
          "name": "stdout",
          "text": [
            "Train Sentiment Distribution:\n",
            "Sentiment\n",
            "positive    19159\n",
            "negative    15853\n",
            "Name: count, dtype: int64\n",
            "\n",
            "Validation Sentiment Distribution:\n",
            "Sentiment\n",
            "positive    4790\n",
            "negative    3964\n",
            "Name: count, dtype: int64\n",
            "\n",
            "Test Sentiment Distribution:\n",
            "Sentiment\n",
            "positive    5988\n",
            "negative    4954\n",
            "Name: count, dtype: int64\n"
          ]
        }
      ],
      "source": [
        "print(\"Train Sentiment Distribution:\")\n",
        "print(train_df['Sentiment'].value_counts())\n",
        "\n",
        "print(\"\\nValidation Sentiment Distribution:\")\n",
        "print(val_df['Sentiment'].value_counts())\n",
        "\n",
        "print(\"\\nTest Sentiment Distribution:\")\n",
        "print(test_df['Sentiment'].value_counts())"
      ]
    },
    {
      "cell_type": "code",
      "execution_count": 14,
      "id": "36ecb870",
      "metadata": {
        "colab": {
          "base_uri": "https://localhost:8080/"
        },
        "id": "36ecb870",
        "outputId": "bb175a63-eab3-4d1b-9c36-4f153e0a53dd"
      },
      "outputs": [
        {
          "output_type": "stream",
          "name": "stdout",
          "text": [
            "Total data size: 54708\n",
            "Train size: 35012\n",
            "Validation size: 8754\n",
            "Test size: 10942\n"
          ]
        }
      ],
      "source": [
        "print(f\"Total data size: {len(spotify_df)}\")\n",
        "print(f\"Train size: {len(train_df)}\")\n",
        "print(f\"Validation size: {len(val_df)}\")\n",
        "print(f\"Test size: {len(test_df)}\")"
      ]
    },
    {
      "cell_type": "markdown",
      "id": "a23d0dc9",
      "metadata": {
        "id": "a23d0dc9"
      },
      "source": [
        "---\n",
        "<a id = \"section6\"></a>\n",
        "### <span style = \"color:blue\" > 6) Loading the Tokenizer and preparing the texts: </span>"
      ]
    },
    {
      "cell_type": "code",
      "execution_count": 15,
      "id": "cdcf8721",
      "metadata": {
        "colab": {
          "base_uri": "https://localhost:8080/"
        },
        "id": "cdcf8721",
        "outputId": "7916f0ab-94a3-4b6d-ad81-8427a525ee59"
      },
      "outputs": [
        {
          "output_type": "stream",
          "name": "stderr",
          "text": [
            "/usr/local/lib/python3.11/dist-packages/huggingface_hub/utils/_auth.py:94: UserWarning: \n",
            "The secret `HF_TOKEN` does not exist in your Colab secrets.\n",
            "To authenticate with the Hugging Face Hub, create a token in your settings tab (https://huggingface.co/settings/tokens), set it as secret in your Google Colab and restart your session.\n",
            "You will be able to reuse this secret in all of your notebooks.\n",
            "Please note that authentication is recommended but still optional to access public models or datasets.\n",
            "  warnings.warn(\n"
          ]
        }
      ],
      "source": [
        "from transformers import BertTokenizer\n",
        "\n",
        "tokenizer = BertTokenizer.from_pretrained('bert-base-uncased')"
      ]
    },
    {
      "cell_type": "markdown",
      "id": "a6213b92",
      "metadata": {
        "id": "a6213b92"
      },
      "source": [
        "### Data Tokenization:"
      ]
    },
    {
      "cell_type": "code",
      "execution_count": 16,
      "id": "f60cec69",
      "metadata": {
        "id": "f60cec69"
      },
      "outputs": [],
      "source": [
        "def tokenize_data(texts, labels, tokenizer, max_len = 128):\n",
        "    encoding = tokenizer(\n",
        "        texts.tolist(),\n",
        "        truncation = True,\n",
        "        padding = True,\n",
        "        max_length = max_len,\n",
        "        return_tensors = 'pt')\n",
        "\n",
        "    label_map = {'positive': 1, 'negative': 0}\n",
        "    labels_tensor = [label_map[label] for label in labels]\n",
        "    return encoding, labels_tensor"
      ]
    },
    {
      "cell_type": "code",
      "execution_count": 17,
      "id": "f26a1bac",
      "metadata": {
        "id": "f26a1bac"
      },
      "outputs": [],
      "source": [
        "train_encodings, train_labels = tokenize_data(train_df['Clean_Review'], train_df['Sentiment'], tokenizer)\n",
        "val_encodings, val_labels = tokenize_data(val_df['Clean_Review'], val_df['Sentiment'], tokenizer)\n",
        "test_encodings, test_labels = tokenize_data(test_df['Clean_Review'], test_df['Sentiment'], tokenizer)"
      ]
    },
    {
      "cell_type": "markdown",
      "id": "cc3b138c",
      "metadata": {
        "id": "cc3b138c"
      },
      "source": [
        "---\n",
        "<a id = \"section7\"></a>\n",
        "### <span style = \"color:blue\" > 7) Creating a Dataset for PyTorch: </span>"
      ]
    },
    {
      "cell_type": "code",
      "execution_count": 18,
      "id": "120fa9f8",
      "metadata": {
        "id": "120fa9f8"
      },
      "outputs": [],
      "source": [
        "class SentimentDataset(torch.utils.data.Dataset):\n",
        "    def __init__(self, encodings, labels):\n",
        "        self.encodings = encodings\n",
        "        self.labels = labels\n",
        "    def __getitem__(self, idx):\n",
        "        item = {key: val[idx] for key, val in self.encodings.items()}\n",
        "        item['labels'] = torch.tensor(self.labels[idx])\n",
        "        return item\n",
        "    def __len__(self):\n",
        "        return len(self.labels)"
      ]
    },
    {
      "cell_type": "code",
      "execution_count": 19,
      "id": "433dbb2f",
      "metadata": {
        "id": "433dbb2f"
      },
      "outputs": [],
      "source": [
        "train_dataset = SentimentDataset(train_encodings, train_labels)\n",
        "val_dataset = SentimentDataset(val_encodings, val_labels)\n",
        "test_dataset = SentimentDataset(test_encodings, test_labels)"
      ]
    },
    {
      "cell_type": "markdown",
      "id": "26694c1b",
      "metadata": {
        "id": "26694c1b"
      },
      "source": [
        "---\n",
        "<a id = \"section8\"></a>\n",
        "### <span style = \"color:blue\" > 8) Model definition and training: </span>"
      ]
    },
    {
      "cell_type": "code",
      "execution_count": 20,
      "id": "537368dc",
      "metadata": {
        "colab": {
          "base_uri": "https://localhost:8080/"
        },
        "id": "537368dc",
        "outputId": "810a3780-8f86-4e34-eceb-419817968e80"
      },
      "outputs": [
        {
          "output_type": "stream",
          "name": "stderr",
          "text": [
            "Some weights of BertForSequenceClassification were not initialized from the model checkpoint at bert-base-uncased and are newly initialized: ['classifier.bias', 'classifier.weight']\n",
            "You should probably TRAIN this model on a down-stream task to be able to use it for predictions and inference.\n"
          ]
        }
      ],
      "source": [
        "from transformers import BertForSequenceClassification\n",
        "\n",
        "model = BertForSequenceClassification.from_pretrained(\"bert-base-uncased\", num_labels = 2)"
      ]
    },
    {
      "cell_type": "code",
      "execution_count": 21,
      "id": "819001eb",
      "metadata": {
        "id": "819001eb"
      },
      "outputs": [],
      "source": [
        "# Define model path as a constant\n",
        "MODEL_PATH = \"best_model.pt\""
      ]
    },
    {
      "cell_type": "markdown",
      "id": "c0b2909a",
      "metadata": {
        "id": "c0b2909a"
      },
      "source": [
        "---\n",
        "<a id = \"section9\"></a>\n",
        "### <span style = \"color:blue\" > 9) Optimizer and Learning rate: </span>"
      ]
    },
    {
      "cell_type": "code",
      "execution_count": 22,
      "id": "ae861dc4",
      "metadata": {
        "id": "ae861dc4"
      },
      "outputs": [],
      "source": [
        "from torch.optim import AdamW\n",
        "from transformers import get_scheduler\n",
        "\n",
        "optimizer = AdamW(model.parameters(), lr = 5e-5)\n",
        "num_epochs = 10\n",
        "\n",
        "train_dataloader = torch.utils.data.DataLoader(train_dataset, batch_size=32, shuffle=True)\n",
        "val_dataloader = torch.utils.data.DataLoader(val_dataset, batch_size=32)\n",
        "test_dataloader = torch.utils.data.DataLoader(test_dataset, batch_size=32)\n",
        "\n",
        "num_training_steps = num_epochs * len(train_dataloader)\n",
        "lr_scheduler = get_scheduler(\"linear\",\n",
        "    optimizer = optimizer,\n",
        "    num_warmup_steps = 0,\n",
        "    num_training_steps = num_training_steps,)"
      ]
    },
    {
      "cell_type": "markdown",
      "id": "508b2d68",
      "metadata": {
        "id": "508b2d68"
      },
      "source": [
        "### Choosing a GPU for the model:"
      ]
    },
    {
      "cell_type": "code",
      "execution_count": 23,
      "id": "6232c93a",
      "metadata": {
        "colab": {
          "base_uri": "https://localhost:8080/"
        },
        "id": "6232c93a",
        "outputId": "561a3060-da50-4e8d-9f03-373d4963acc5"
      },
      "outputs": [
        {
          "output_type": "execute_result",
          "data": {
            "text/plain": [
              "BertForSequenceClassification(\n",
              "  (bert): BertModel(\n",
              "    (embeddings): BertEmbeddings(\n",
              "      (word_embeddings): Embedding(30522, 768, padding_idx=0)\n",
              "      (position_embeddings): Embedding(512, 768)\n",
              "      (token_type_embeddings): Embedding(2, 768)\n",
              "      (LayerNorm): LayerNorm((768,), eps=1e-12, elementwise_affine=True)\n",
              "      (dropout): Dropout(p=0.1, inplace=False)\n",
              "    )\n",
              "    (encoder): BertEncoder(\n",
              "      (layer): ModuleList(\n",
              "        (0-11): 12 x BertLayer(\n",
              "          (attention): BertAttention(\n",
              "            (self): BertSdpaSelfAttention(\n",
              "              (query): Linear(in_features=768, out_features=768, bias=True)\n",
              "              (key): Linear(in_features=768, out_features=768, bias=True)\n",
              "              (value): Linear(in_features=768, out_features=768, bias=True)\n",
              "              (dropout): Dropout(p=0.1, inplace=False)\n",
              "            )\n",
              "            (output): BertSelfOutput(\n",
              "              (dense): Linear(in_features=768, out_features=768, bias=True)\n",
              "              (LayerNorm): LayerNorm((768,), eps=1e-12, elementwise_affine=True)\n",
              "              (dropout): Dropout(p=0.1, inplace=False)\n",
              "            )\n",
              "          )\n",
              "          (intermediate): BertIntermediate(\n",
              "            (dense): Linear(in_features=768, out_features=3072, bias=True)\n",
              "            (intermediate_act_fn): GELUActivation()\n",
              "          )\n",
              "          (output): BertOutput(\n",
              "            (dense): Linear(in_features=3072, out_features=768, bias=True)\n",
              "            (LayerNorm): LayerNorm((768,), eps=1e-12, elementwise_affine=True)\n",
              "            (dropout): Dropout(p=0.1, inplace=False)\n",
              "          )\n",
              "        )\n",
              "      )\n",
              "    )\n",
              "    (pooler): BertPooler(\n",
              "      (dense): Linear(in_features=768, out_features=768, bias=True)\n",
              "      (activation): Tanh()\n",
              "    )\n",
              "  )\n",
              "  (dropout): Dropout(p=0.1, inplace=False)\n",
              "  (classifier): Linear(in_features=768, out_features=2, bias=True)\n",
              ")"
            ]
          },
          "metadata": {},
          "execution_count": 23
        }
      ],
      "source": [
        "device = torch.device(\"cuda\") if torch.cuda.is_available() else torch.device(\"cpu\")\n",
        "model.to(device)"
      ]
    },
    {
      "cell_type": "markdown",
      "id": "b359a585",
      "metadata": {
        "id": "b359a585"
      },
      "source": [
        "---\n",
        "<a id = \"section10\"></a>\n",
        "### <span style = \"color:blue\" > 10) Training the model: </span>\n"
      ]
    },
    {
      "cell_type": "markdown",
      "id": "0FPTjUK6G6ab",
      "metadata": {
        "id": "0FPTjUK6G6ab"
      },
      "source": [
        "### Initialize variables for EarlyStopping"
      ]
    },
    {
      "cell_type": "code",
      "execution_count": 24,
      "id": "3fe95e0d",
      "metadata": {
        "id": "3fe95e0d"
      },
      "outputs": [],
      "source": [
        "best_val_loss = float('inf')\n",
        "patience = 2\n",
        "early_stop_counter = 0"
      ]
    },
    {
      "cell_type": "code",
      "execution_count": 25,
      "id": "20e4fa70",
      "metadata": {
        "colab": {
          "base_uri": "https://localhost:8080/"
        },
        "id": "20e4fa70",
        "outputId": "bba6b47e-ccff-4c73-a513-7adb26547be1"
      },
      "outputs": [
        {
          "output_type": "stream",
          "name": "stdout",
          "text": [
            "\n",
            "Epoch 1/10\n"
          ]
        },
        {
          "output_type": "stream",
          "name": "stderr",
          "text": [
            "Epoch 1: 100%|██████████| 1095/1095 [11:18<00:00,  1.61it/s, loss=0.157]\n"
          ]
        },
        {
          "output_type": "stream",
          "name": "stdout",
          "text": [
            "Train Loss: 0.2540 | Train Acc: 0.9001\n",
            "Val   Loss: 0.2270 | Val   Acc: 0.9134\n",
            "Validation loss improved. Saving model.\n",
            "\n",
            "Epoch 2/10\n"
          ]
        },
        {
          "output_type": "stream",
          "name": "stderr",
          "text": [
            "Epoch 2: 100%|██████████| 1095/1095 [11:28<00:00,  1.59it/s, loss=0.00668]\n"
          ]
        },
        {
          "output_type": "stream",
          "name": "stdout",
          "text": [
            "Train Loss: 0.1814 | Train Acc: 0.9333\n",
            "Val   Loss: 0.2429 | Val   Acc: 0.9078\n",
            "⏸ No improvement in validation loss for 1 epoch(s).\n",
            "\n",
            "Epoch 3/10\n"
          ]
        },
        {
          "output_type": "stream",
          "name": "stderr",
          "text": [
            "Epoch 3: 100%|██████████| 1095/1095 [11:27<00:00,  1.59it/s, loss=0.416]\n"
          ]
        },
        {
          "output_type": "stream",
          "name": "stdout",
          "text": [
            "Train Loss: 0.1200 | Train Acc: 0.9584\n",
            "Val   Loss: 0.2529 | Val   Acc: 0.9055\n",
            "⏸ No improvement in validation loss for 2 epoch(s).\n",
            "Early stopping triggered.\n"
          ]
        }
      ],
      "source": [
        "from tqdm import tqdm\n",
        "from sklearn.metrics import accuracy_score\n",
        "\n",
        "train_losses, val_losses, train_accuracies, val_accuracies = [], [], [], []\n",
        "\n",
        "# === Initialize EarlyStopping ===\n",
        "\n",
        "for epoch in range(num_epochs):\n",
        "    print(f\"\\nEpoch {epoch + 1}/{num_epochs}\")\n",
        "    model.train()\n",
        "    total_loss = 0\n",
        "    all_preds, all_labels = [], []\n",
        "\n",
        "    loop = tqdm(train_dataloader, leave=True)\n",
        "    for batch in loop:\n",
        "        batch = {k: v.to(device) for k, v in batch.items()}\n",
        "        outputs = model(**batch)\n",
        "        loss = outputs.loss\n",
        "        loss.backward()\n",
        "\n",
        "        optimizer.step()\n",
        "        lr_scheduler.step()\n",
        "        optimizer.zero_grad()\n",
        "\n",
        "        total_loss += loss.item()\n",
        "        preds = torch.argmax(outputs.logits, dim=1)\n",
        "        all_preds.extend(preds.cpu().numpy())\n",
        "        all_labels.extend(batch['labels'].cpu().numpy())\n",
        "\n",
        "        loop.set_description(f\"Epoch {epoch + 1}\")\n",
        "        loop.set_postfix(loss=loss.item())\n",
        "\n",
        "    # === Training metrics ===\n",
        "    train_loss = total_loss / len(train_dataloader)\n",
        "    train_acc = accuracy_score(all_labels, all_preds)\n",
        "    train_losses.append(train_loss)\n",
        "    train_accuracies.append(train_acc)\n",
        "\n",
        "    # === Validation ===\n",
        "    model.eval()\n",
        "    val_loss, val_preds, val_labels = 0, [], []\n",
        "    with torch.no_grad():\n",
        "        for batch in val_dataloader:\n",
        "            batch = {k: v.to(device) for k, v in batch.items()}\n",
        "            outputs = model(**batch)\n",
        "            val_loss += outputs.loss.item()\n",
        "            preds = torch.argmax(outputs.logits, dim=1)\n",
        "            val_preds.extend(preds.cpu().numpy())\n",
        "            val_labels.extend(batch['labels'].cpu().numpy())\n",
        "\n",
        "    val_loss /= len(val_dataloader)\n",
        "    val_acc = accuracy_score(val_labels, val_preds)\n",
        "    val_losses.append(val_loss)\n",
        "    val_accuracies.append(val_acc)\n",
        "\n",
        "    print(f\"Train Loss: {train_loss:.4f} | Train Acc: {train_acc:.4f}\")\n",
        "    print(f\"Val   Loss: {val_loss:.4f} | Val   Acc: {val_acc:.4f}\")\n",
        "\n",
        "        # === EarlyStopping ===\n",
        "    if val_loss < best_val_loss:\n",
        "        best_val_loss = val_loss\n",
        "        torch.save(model.state_dict(), MODEL_PATH)\n",
        "        print(\"Validation loss improved. Saving model.\")\n",
        "    else:\n",
        "        early_stop_counter += 1\n",
        "        print(f\"⏸ No improvement in validation loss for {early_stop_counter} epoch(s).\")\n",
        "        if early_stop_counter >= patience:\n",
        "            print(\"Early stopping triggered.\")\n",
        "            break\n",
        "\n",
        "    model.train()"
      ]
    },
    {
      "cell_type": "markdown",
      "id": "OPt-eiM-9mWJ",
      "metadata": {
        "id": "OPt-eiM-9mWJ"
      },
      "source": [
        "### Plot training and validation loss & accuracy"
      ]
    },
    {
      "cell_type": "code",
      "execution_count": 26,
      "id": "339d1e79",
      "metadata": {
        "colab": {
          "base_uri": "https://localhost:8080/",
          "height": 480
        },
        "id": "339d1e79",
        "outputId": "8b8846c0-38e3-4923-8e44-c6ef77f52959"
      },
      "outputs": [
        {
          "output_type": "display_data",
          "data": {
            "text/plain": [
              "<Figure size 1400x500 with 2 Axes>"
            ],
            "image/png": "[encoded data removed]"
          },
          "metadata": {}
        }
      ],
      "source": [
        "import matplotlib.pyplot as plt\n",
        "\n",
        "epochs = range(1, len(train_losses) + 1)\n",
        "\n",
        "plt.figure(figsize=(14, 5))\n",
        "plt.suptitle(\"Training Performance over Epochs\", fontsize=16)\n",
        "\n",
        "# Loss Plot\n",
        "plt.subplot(1, 2, 1)\n",
        "plt.plot(epochs, train_losses, label='Train Loss', marker='o')\n",
        "plt.plot(epochs, val_losses, label='Val Loss', marker='o')\n",
        "plt.title('Loss per Epoch')\n",
        "plt.xlabel('Epoch')\n",
        "plt.ylabel('Loss')\n",
        "plt.legend()\n",
        "plt.grid(True)\n",
        "\n",
        "# Accuracy Plot\n",
        "plt.subplot(1, 2, 2)\n",
        "plt.plot(epochs, train_accuracies, label='Train Accuracy', marker='o')\n",
        "plt.plot(epochs, val_accuracies, label='Val Accuracy', marker='o')\n",
        "plt.title('Accuracy per Epoch')\n",
        "plt.xlabel('Epoch')\n",
        "plt.ylabel('Accuracy')\n",
        "plt.legend()\n",
        "plt.grid(True)\n",
        "\n",
        "plt.tight_layout()\n",
        "plt.show()"
      ]
    },
    {
      "cell_type": "markdown",
      "id": "8ba41f9e",
      "metadata": {
        "id": "8ba41f9e"
      },
      "source": [
        "---\n",
        "<a id = \"section11\"></a>\n",
        "### <span style = \"color:blue\" > 11) Model evaluation: </span>"
      ]
    },
    {
      "cell_type": "code",
      "execution_count": 27,
      "id": "0aa8e5b2",
      "metadata": {
        "id": "0aa8e5b2"
      },
      "outputs": [],
      "source": [
        "from sklearn.metrics import classification_report\n",
        "\n",
        "def evaluate(model, dataloader, dataset_name = \"Validation\"):\n",
        "    model.eval()\n",
        "    predictions, true_labels = [], []\n",
        "    with torch.no_grad():\n",
        "        for batch in dataloader:\n",
        "            batch = {k: v.to(device) for k, v in batch.items()}\n",
        "            outputs = model(**batch)\n",
        "            logits = outputs.logits\n",
        "            preds = torch.argmax(logits, dim=1)\n",
        "            predictions.extend(preds.cpu().numpy())\n",
        "            true_labels.extend(batch['labels'].cpu().numpy())\n",
        "    print(f\"\\n{dataset_name} Results:\")\n",
        "    print(classification_report(true_labels, predictions, target_names = [\"Negative\", \"Positive\"]))"
      ]
    },
    {
      "cell_type": "code",
      "execution_count": 28,
      "id": "xRDAfF48W07L",
      "metadata": {
        "id": "xRDAfF48W07L",
        "colab": {
          "base_uri": "https://localhost:8080/"
        },
        "outputId": "f58b758c-a3c8-4a9c-c4fc-0b0e8aa4a861"
      },
      "outputs": [
        {
          "output_type": "stream",
          "name": "stdout",
          "text": [
            "\n",
            "Validation Results:\n",
            "              precision    recall  f1-score   support\n",
            "\n",
            "    Negative       0.90      0.89      0.89      3964\n",
            "    Positive       0.91      0.92      0.91      4790\n",
            "\n",
            "    accuracy                           0.91      8754\n",
            "   macro avg       0.91      0.90      0.90      8754\n",
            "weighted avg       0.91      0.91      0.91      8754\n",
            "\n",
            "\n",
            "Test Results:\n",
            "              precision    recall  f1-score   support\n",
            "\n",
            "    Negative       0.91      0.90      0.90      4954\n",
            "    Positive       0.92      0.93      0.92      5988\n",
            "\n",
            "    accuracy                           0.91     10942\n",
            "   macro avg       0.91      0.91      0.91     10942\n",
            "weighted avg       0.91      0.91      0.91     10942\n",
            "\n"
          ]
        }
      ],
      "source": [
        "evaluate(model, val_dataloader, \"Validation\")\n",
        "evaluate(model, test_dataloader, \"Test\")"
      ]
    },
    {
      "cell_type": "code",
      "execution_count": 31,
      "id": "rGwmeOioWHHL",
      "metadata": {
        "id": "rGwmeOioWHHL",
        "colab": {
          "base_uri": "https://localhost:8080/"
        },
        "outputId": "52af07e8-790a-4b73-c1c1-d3e8f2e7efcf"
      },
      "outputs": [
        {
          "output_type": "stream",
          "name": "stdout",
          "text": [
            "Train Loss: 0.1200 | Train Acc: 0.9584\n",
            "Val   Loss: 0.2529 | Val   Acc: 0.9055\n"
          ]
        }
      ],
      "source": [
        "model.eval()\n",
        "val_loss, val_preds, val_labels = 0, [], []\n",
        "\n",
        "with torch.no_grad():\n",
        "    for batch in val_dataloader:\n",
        "        batch = {k: v.to(device) for k, v in batch.items()}\n",
        "        outputs = model(**batch)\n",
        "        val_loss += outputs.loss.item()\n",
        "        preds = torch.argmax(outputs.logits, dim=1)\n",
        "        val_preds.extend(preds.cpu().numpy())\n",
        "        val_labels.extend(batch['labels'].cpu().numpy())\n",
        "\n",
        "val_loss /= len(val_dataloader)\n",
        "val_acc = accuracy_score(val_labels, val_preds)\n",
        "val_losses.append(val_loss)\n",
        "val_accuracies.append(val_acc)\n",
        "\n",
        "print(f\"Train Loss: {train_loss:.4f} | Train Acc: {train_acc:.4f}\")\n",
        "print(f\"Val   Loss: {val_loss:.4f} | Val   Acc: {val_acc:.4f}\")\n"
      ]
    },
    {
      "cell_type": "markdown",
      "id": "61882624",
      "metadata": {
        "id": "61882624"
      },
      "source": [
        "### Training Metrics Visualization\n"
      ]
    },
    {
      "cell_type": "code",
      "execution_count": 32,
      "id": "69b0bc26",
      "metadata": {
        "colab": {
          "base_uri": "https://localhost:8080/"
        },
        "id": "69b0bc26",
        "outputId": "57bd456c-581a-419c-9d15-aa0d58243100"
      },
      "outputs": [
        {
          "output_type": "stream",
          "name": "stdout",
          "text": [
            "\n",
            "Epoch 1/10\n"
          ]
        },
        {
          "output_type": "stream",
          "name": "stderr",
          "text": [
            "Epoch 1: 100%|██████████| 1095/1095 [11:28<00:00,  1.59it/s, loss=0.0256]"
          ]
        },
        {
          "output_type": "stream",
          "name": "stdout",
          "text": [
            "No improvement in validation loss for 3 epoch(s).\n",
            "Early stopping triggered.\n"
          ]
        },
        {
          "output_type": "stream",
          "name": "stderr",
          "text": [
            "\n"
          ]
        }
      ],
      "source": [
        "from sklearn.metrics import accuracy_score\n",
        "train_losses, val_losses, train_accuracies, val_accuracies = [], [], [], []\n",
        "\n",
        "for epoch in range(num_epochs):\n",
        "    print(f\"\\nEpoch {epoch + 1}/{num_epochs}\")\n",
        "    model.train()\n",
        "    total_loss = 0\n",
        "    all_preds, all_labels = [], []\n",
        "\n",
        "    loop = tqdm(train_dataloader, leave = True)\n",
        "    for batch in loop:\n",
        "        batch = {k: v.to(device) for k, v in batch.items()}\n",
        "        outputs = model(**batch)\n",
        "        loss = outputs.loss\n",
        "        loss.backward()\n",
        "        optimizer.step()\n",
        "        lr_scheduler.step()\n",
        "        optimizer.zero_grad()\n",
        "\n",
        "        total_loss += loss.item()\n",
        "        preds = torch.argmax(outputs.logits, dim = 1)\n",
        "        all_preds.extend(preds.cpu().numpy())\n",
        "        all_labels.extend(batch['labels'].cpu().numpy())\n",
        "\n",
        "        loop.set_description(f\"Epoch {epoch + 1}\")\n",
        "        loop.set_postfix(loss=loss.item())\n",
        "\n",
        "    train_loss = total_loss / len(train_dataloader)\n",
        "    train_acc = accuracy_score(all_labels, all_preds)\n",
        "    train_losses.append(train_loss)\n",
        "    train_accuracies.append(train_acc)\n",
        "\n",
        "    # EarlyStopping logic\n",
        "    if val_loss < best_val_loss:\n",
        "        best_val_loss = val_loss\n",
        "        # Optional: save the best model\n",
        "    else:\n",
        "        early_stop_counter += 1\n",
        "        print(f\"No improvement in validation loss for {early_stop_counter} epoch(s).\")\n",
        "        if early_stop_counter >= patience:\n",
        "            print(\"Early stopping triggered.\")\n",
        "            break"
      ]
    },
    {
      "cell_type": "markdown",
      "id": "d1bcf51b",
      "metadata": {
        "id": "d1bcf51b"
      },
      "source": [
        "### Confusion Matrix"
      ]
    },
    {
      "cell_type": "code",
      "execution_count": 33,
      "id": "b9809e6b",
      "metadata": {
        "id": "b9809e6b"
      },
      "outputs": [],
      "source": [
        "from sklearn.metrics import confusion_matrix, ConfusionMatrixDisplay\n",
        "\n",
        "model.eval()\n",
        "test_preds, test_labels_flat = [], []\n",
        "with torch.no_grad():\n",
        "    for batch in test_dataloader:\n",
        "        batch = {k: v.to(device) for k, v in batch.items()}\n",
        "        outputs = model(**batch)\n",
        "        preds = torch.argmax(outputs.logits, dim=1)\n",
        "        test_preds.extend(preds.cpu().numpy())\n",
        "        test_labels_flat.extend(batch['labels'].cpu().numpy())"
      ]
    },
    {
      "cell_type": "code",
      "execution_count": 34,
      "id": "55Wdr3eN90io",
      "metadata": {
        "colab": {
          "base_uri": "https://localhost:8080/",
          "height": 472
        },
        "id": "55Wdr3eN90io",
        "outputId": "775a5b8f-6ffc-4af8-b646-796eb9c28bd3"
      },
      "outputs": [
        {
          "output_type": "display_data",
          "data": {
            "text/plain": [
              "<Figure size 640x480 with 2 Axes>"
            ],
            "image/png": "[encoded data removed]"
          },
          "metadata": {}
        }
      ],
      "source": [
        "cm = confusion_matrix(test_labels_flat, test_preds)\n",
        "disp = ConfusionMatrixDisplay(confusion_matrix=cm, display_labels=[\"Negative\", \"Positive\"])\n",
        "disp.plot(cmap='Blues')\n",
        "plt.title(\"Confusion Matrix on Test Set\")\n",
        "plt.show()"
      ]
    },
    {
      "cell_type": "markdown",
      "id": "f083991b",
      "metadata": {
        "id": "f083991b"
      },
      "source": [
        "---\n",
        "<a id = \"section12\"></a>\n",
        "### <span style = \"color:blue\" > 12) Saving the Fine-Tuned Model: </span>"
      ]
    },
    {
      "cell_type": "code",
      "execution_count": 35,
      "id": "1d8549d5",
      "metadata": {
        "colab": {
          "base_uri": "https://localhost:8080/"
        },
        "id": "1d8549d5",
        "outputId": "7b9d28f3-ec43-47f9-fe69-f28c7c039d94"
      },
      "outputs": [
        {
          "output_type": "stream",
          "name": "stderr",
          "text": [
            "Some weights of BertForSequenceClassification were not initialized from the model checkpoint at bert-base-uncased and are newly initialized: ['classifier.bias', 'classifier.weight']\n",
            "You should probably TRAIN this model on a down-stream task to be able to use it for predictions and inference.\n"
          ]
        },
        {
          "output_type": "stream",
          "name": "stdout",
          "text": [
            "Loaded the best saved model from best_model.pt and set to evaluation mode.\n"
          ]
        }
      ],
      "source": [
        "from transformers import BertForSequenceClassification\n",
        "\n",
        "best_model = BertForSequenceClassification.from_pretrained(\"bert-base-uncased\", num_labels=2)\n",
        "\n",
        "best_model.load_state_dict(torch.load(MODEL_PATH, map_location=device))\n",
        "best_model.to(device)\n",
        "best_model.eval()\n",
        "\n",
        "print(\"Loaded the best saved model from best_model.pt and set to evaluation mode.\")"
      ]
    },
    {
      "cell_type": "markdown",
      "id": "23f853ce",
      "metadata": {
        "id": "23f853ce"
      },
      "source": [
        "### Final Evaluation and Visualization"
      ]
    },
    {
      "cell_type": "code",
      "execution_count": 36,
      "id": "dec1205b",
      "metadata": {
        "id": "dec1205b"
      },
      "outputs": [],
      "source": [
        "from sklearn.metrics import classification_report\n",
        "\n",
        "def evaluate(model, dataloader, dataset_name=\"Validation\"):\n",
        "    model.eval()\n",
        "    predictions, true_labels = [], []\n",
        "    with torch.no_grad():\n",
        "        for batch in dataloader:\n",
        "            batch = {k: v.to(device) for k, v in batch.items()}\n",
        "            outputs = model(**batch)\n",
        "            logits = outputs.logits\n",
        "            preds = torch.argmax(logits, dim=1)\n",
        "            predictions.extend(preds.cpu().numpy())\n",
        "            true_labels.extend(batch['labels'].cpu().numpy())\n",
        "    print(f\"\\n{dataset_name} Results:\")\n",
        "    print(classification_report(true_labels, predictions, target_names=[\"Negative\", \"Positive\"]))"
      ]
    },
    {
      "cell_type": "code",
      "execution_count": 37,
      "id": "24c94d4e",
      "metadata": {
        "id": "24c94d4e",
        "colab": {
          "base_uri": "https://localhost:8080/"
        },
        "outputId": "e9b544a6-de2e-4c67-9e3f-1296e58d92d9"
      },
      "outputs": [
        {
          "output_type": "stream",
          "name": "stdout",
          "text": [
            "\n",
            "Validation Results:\n",
            "              precision    recall  f1-score   support\n",
            "\n",
            "    Negative       0.90      0.91      0.91      3964\n",
            "    Positive       0.93      0.91      0.92      4790\n",
            "\n",
            "    accuracy                           0.91      8754\n",
            "   macro avg       0.91      0.91      0.91      8754\n",
            "weighted avg       0.91      0.91      0.91      8754\n",
            "\n",
            "\n",
            "Test Results:\n",
            "              precision    recall  f1-score   support\n",
            "\n",
            "    Negative       0.90      0.92      0.91      4954\n",
            "    Positive       0.93      0.92      0.92      5988\n",
            "\n",
            "    accuracy                           0.92     10942\n",
            "   macro avg       0.92      0.92      0.92     10942\n",
            "weighted avg       0.92      0.92      0.92     10942\n",
            "\n"
          ]
        }
      ],
      "source": [
        "evaluate(best_model, val_dataloader, 'Validation')\n",
        "evaluate(best_model, test_dataloader, 'Test')"
      ]
    },
    {
      "cell_type": "markdown",
      "id": "3feb4181",
      "metadata": {
        "id": "3feb4181"
      },
      "source": [
        "### Predicting Sentiment for New User Input"
      ]
    },
    {
      "cell_type": "code",
      "execution_count": 38,
      "id": "f4ea1b74",
      "metadata": {
        "colab": {
          "base_uri": "https://localhost:8080/"
        },
        "id": "f4ea1b74",
        "outputId": "16472014-e30e-4661-a2ed-b21b24484a9d"
      },
      "outputs": [
        {
          "output_type": "stream",
          "name": "stdout",
          "text": [
            "Input: This app is fantastic! I love using it every day.\n",
            " Predicted Sentiment: Positive\n"
          ]
        }
      ],
      "source": [
        "def predict_sentiment(text, model, tokenizer, max_len=128):\n",
        "    model.eval()\n",
        "    cleaned_text = re.sub(r'[^a-z0-9\\s]', '', text.lower())\n",
        "    inputs = tokenizer(\n",
        "        cleaned_text,\n",
        "        return_tensors='pt',\n",
        "        truncation=True,\n",
        "        padding=True,\n",
        "        max_length=max_len)\n",
        "\n",
        "    inputs = {k: v.to(device) for k, v in inputs.items()}\n",
        "    with torch.no_grad():\n",
        "        outputs = model(**inputs)\n",
        "        prediction = torch.argmax(outputs.logits, dim=1).item()\n",
        "    return \"Positive\" if prediction == 1 else \"Negative\"\n",
        "\n",
        "# Example usage:\n",
        "user_input = \"This app is fantastic! I love using it every day.\"\n",
        "prediction = predict_sentiment(user_input, best_model, tokenizer)\n",
        "print(f\"Input: {user_input}\\n Predicted Sentiment: {prediction}\")"
      ]
    }
  ],
  "metadata": {
    "accelerator": "GPU",
    "colab": {
      "gpuType": "T4",
      "provenance": []
    },
    "kernelspec": {
      "display_name": "Python 3",
      "name": "python3"
    },
    "language_info": {
      "codemirror_mode": {
        "name": "ipython",
        "version": 3
      },
      "file_extension": ".py",
      "mimetype": "text/x-python",
      "name": "python",
      "nbconvert_exporter": "python",
      "pygments_lexer": "ipython3",
      "version": "3.11.7"
    }
  },
  "nbformat": 4,
  "nbformat_minor": 5
}